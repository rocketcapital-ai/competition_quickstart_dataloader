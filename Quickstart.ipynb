{
  "cells": [
    {
      "cell_type": "markdown",
      "metadata": {
        "id": "kzT7pV5cWKKK"
      },
      "source": [
        "# This is a sample jupyter notebook to generate the prediction for competition submission\n",
        "- For detail documentation, please visit https://rocket-capital-investment.gitbook.io/rci-tournament/\n"
      ]
    },
    {
      "cell_type": "markdown",
      "source": [
        "Download and import custom module from RCI repo to get latest dataset from IPFS\n"
      ],
      "metadata": {
        "id": "IVRqXdFMWjDo"
      }
    },
    {
      "cell_type": "code",
      "execution_count": null,
      "metadata": {
        "id": "YckzIhnyWKKM",
        "outputId": "9522c8f2-fef9-4979-ff26-f56c2949002e"
      },
      "outputs": [
        {
          "name": "stdout",
          "output_type": "stream",
          "text": [
            "3.9.4\n"
          ]
        }
      ],
      "source": [
        "# download custom module from RCI github repo which enable us to download dataset directly from IPFS\n",
        "!wget -O dataloader.py https://raw.githubusercontent.com/rocketcapital-ai/competition_quickstart_dataloader/main/dataloader.py\n",
        "\n",
        "# import modules\n",
        "import sys, zipfile\n",
        "from google.colab import files\n",
        "\n",
        "# append the directory of downloaded custom module to system path so we can import it\n",
        "sys.path.append('/content/')\n",
        "\n",
        "# install base58 module to decrpt the dataset\n",
        "!pip install base58\n",
        "\n",
        "# import the downloaded module\n",
        "from dataloader import download_dataset\n",
        "\n",
        "# fill in your IPFS gateway url here\n",
        "my_gateway = 'https://gateway.pinata.cloud' \n",
        "\n",
        "# download and unzip latest dataset from IPFS\n",
        "filename = download_dataset(my_gateway)"
      ]
    },
    {
      "cell_type": "markdown",
      "metadata": {
        "id": "2Oh5emwnWKKN"
      },
      "source": [
        "## Loading train, test, validation data"
      ]
    },
    {
      "cell_type": "code",
      "execution_count": null,
      "metadata": {
        "id": "tNMxtVT7WKKN"
      },
      "outputs": [],
      "source": [
        "import pandas as pd\n",
        "import numpy as np\n",
        "import scipy as sp\n",
        "import warnings\n",
        "warnings.filterwarnings(action='ignore', category=UserWarning)\n",
        "\n",
        "train_dataset  = pd.read_csv('/content/dataset/train_dataset.csv', index_col = 'date')\n",
        "validation_dataset  = pd.read_csv('/content/dataset/validation_dataset.csv', index_col = 'date')\n"
      ]
    },
    {
      "cell_type": "code",
      "execution_count": null,
      "metadata": {
        "id": "l7m7FLsDWKKN",
        "outputId": "6eec8f19-8c58-4607-bac6-2507fbca1e0a"
      },
      "outputs": [
        {
          "data": {
            "text/html": [
              "<div>\n",
              "<style scoped>\n",
              "    .dataframe tbody tr th:only-of-type {\n",
              "        vertical-align: middle;\n",
              "    }\n",
              "\n",
              "    .dataframe tbody tr th {\n",
              "        vertical-align: top;\n",
              "    }\n",
              "\n",
              "    .dataframe thead th {\n",
              "        text-align: right;\n",
              "    }\n",
              "</style>\n",
              "<table border=\"1\" class=\"dataframe\">\n",
              "  <thead>\n",
              "    <tr style=\"text-align: right;\">\n",
              "      <th></th>\n",
              "      <th>symbol</th>\n",
              "      <th>feature_1</th>\n",
              "      <th>feature_2</th>\n",
              "      <th>feature_3</th>\n",
              "      <th>feature_4</th>\n",
              "      <th>feature_5</th>\n",
              "      <th>feature_6</th>\n",
              "      <th>feature_7</th>\n",
              "      <th>feature_8</th>\n",
              "      <th>feature_9</th>\n",
              "      <th>...</th>\n",
              "      <th>feature_1133</th>\n",
              "      <th>feature_1134</th>\n",
              "      <th>feature_1135</th>\n",
              "      <th>feature_1136</th>\n",
              "      <th>feature_1137</th>\n",
              "      <th>feature_1138</th>\n",
              "      <th>feature_1139</th>\n",
              "      <th>feature_DC1</th>\n",
              "      <th>target_neutral</th>\n",
              "      <th>target_updown</th>\n",
              "    </tr>\n",
              "    <tr>\n",
              "      <th>date</th>\n",
              "      <th></th>\n",
              "      <th></th>\n",
              "      <th></th>\n",
              "      <th></th>\n",
              "      <th></th>\n",
              "      <th></th>\n",
              "      <th></th>\n",
              "      <th></th>\n",
              "      <th></th>\n",
              "      <th></th>\n",
              "      <th></th>\n",
              "      <th></th>\n",
              "      <th></th>\n",
              "      <th></th>\n",
              "      <th></th>\n",
              "      <th></th>\n",
              "      <th></th>\n",
              "      <th></th>\n",
              "      <th></th>\n",
              "      <th></th>\n",
              "      <th></th>\n",
              "    </tr>\n",
              "  </thead>\n",
              "  <tbody>\n",
              "    <tr>\n",
              "      <th>2018-04-29</th>\n",
              "      <td>BTC</td>\n",
              "      <td>0.025641</td>\n",
              "      <td>0.000000</td>\n",
              "      <td>0.000000</td>\n",
              "      <td>0.923077</td>\n",
              "      <td>0.000000</td>\n",
              "      <td>0.897436</td>\n",
              "      <td>0.051282</td>\n",
              "      <td>0.000000</td>\n",
              "      <td>0.000000</td>\n",
              "      <td>...</td>\n",
              "      <td>0.641026</td>\n",
              "      <td>0.589744</td>\n",
              "      <td>0.589744</td>\n",
              "      <td>0.666667</td>\n",
              "      <td>0.820513</td>\n",
              "      <td>0.820513</td>\n",
              "      <td>0.871795</td>\n",
              "      <td>0.410256</td>\n",
              "      <td>0.743590</td>\n",
              "      <td>0.024718</td>\n",
              "    </tr>\n",
              "    <tr>\n",
              "      <th>2018-04-29</th>\n",
              "      <td>PRE</td>\n",
              "      <td>0.333333</td>\n",
              "      <td>0.076923</td>\n",
              "      <td>0.025641</td>\n",
              "      <td>0.025641</td>\n",
              "      <td>0.641026</td>\n",
              "      <td>0.487179</td>\n",
              "      <td>0.153846</td>\n",
              "      <td>0.179487</td>\n",
              "      <td>0.051282</td>\n",
              "      <td>...</td>\n",
              "      <td>0.820513</td>\n",
              "      <td>0.641026</td>\n",
              "      <td>0.564103</td>\n",
              "      <td>0.692308</td>\n",
              "      <td>0.743590</td>\n",
              "      <td>0.717949</td>\n",
              "      <td>0.820513</td>\n",
              "      <td>0.358974</td>\n",
              "      <td>0.487179</td>\n",
              "      <td>-0.022062</td>\n",
              "    </tr>\n",
              "    <tr>\n",
              "      <th>2018-04-29</th>\n",
              "      <td>QSP</td>\n",
              "      <td>0.589744</td>\n",
              "      <td>0.589744</td>\n",
              "      <td>0.512821</td>\n",
              "      <td>0.564103</td>\n",
              "      <td>0.512821</td>\n",
              "      <td>0.410256</td>\n",
              "      <td>0.461538</td>\n",
              "      <td>0.230769</td>\n",
              "      <td>0.179487</td>\n",
              "      <td>...</td>\n",
              "      <td>0.102564</td>\n",
              "      <td>0.051282</td>\n",
              "      <td>0.051282</td>\n",
              "      <td>0.102564</td>\n",
              "      <td>0.153846</td>\n",
              "      <td>0.153846</td>\n",
              "      <td>0.153846</td>\n",
              "      <td>0.384615</td>\n",
              "      <td>0.948718</td>\n",
              "      <td>0.198369</td>\n",
              "    </tr>\n",
              "    <tr>\n",
              "      <th>2018-04-29</th>\n",
              "      <td>ADA</td>\n",
              "      <td>0.846154</td>\n",
              "      <td>0.717949</td>\n",
              "      <td>0.743590</td>\n",
              "      <td>0.743590</td>\n",
              "      <td>0.102564</td>\n",
              "      <td>0.641026</td>\n",
              "      <td>0.717949</td>\n",
              "      <td>0.743590</td>\n",
              "      <td>0.256410</td>\n",
              "      <td>...</td>\n",
              "      <td>0.435897</td>\n",
              "      <td>0.615385</td>\n",
              "      <td>0.666667</td>\n",
              "      <td>0.487179</td>\n",
              "      <td>0.410256</td>\n",
              "      <td>0.512821</td>\n",
              "      <td>0.282051</td>\n",
              "      <td>0.871795</td>\n",
              "      <td>0.410256</td>\n",
              "      <td>-0.042060</td>\n",
              "    </tr>\n",
              "    <tr>\n",
              "      <th>2018-04-29</th>\n",
              "      <td>TRAC</td>\n",
              "      <td>0.384615</td>\n",
              "      <td>0.358974</td>\n",
              "      <td>0.410256</td>\n",
              "      <td>0.384615</td>\n",
              "      <td>0.564103</td>\n",
              "      <td>0.256410</td>\n",
              "      <td>0.307692</td>\n",
              "      <td>0.384615</td>\n",
              "      <td>0.512821</td>\n",
              "      <td>...</td>\n",
              "      <td>0.692308</td>\n",
              "      <td>0.794872</td>\n",
              "      <td>0.846154</td>\n",
              "      <td>0.717949</td>\n",
              "      <td>0.846154</td>\n",
              "      <td>0.897436</td>\n",
              "      <td>0.743590</td>\n",
              "      <td>0.333333</td>\n",
              "      <td>0.820513</td>\n",
              "      <td>0.108134</td>\n",
              "    </tr>\n",
              "  </tbody>\n",
              "</table>\n",
              "<p>5 rows × 1143 columns</p>\n",
              "</div>"
            ],
            "text/plain": [
              "           symbol  feature_1  feature_2  feature_3  feature_4  feature_5  \\\n",
              "date                                                                       \n",
              "2018-04-29    BTC   0.025641   0.000000   0.000000   0.923077   0.000000   \n",
              "2018-04-29    PRE   0.333333   0.076923   0.025641   0.025641   0.641026   \n",
              "2018-04-29    QSP   0.589744   0.589744   0.512821   0.564103   0.512821   \n",
              "2018-04-29    ADA   0.846154   0.717949   0.743590   0.743590   0.102564   \n",
              "2018-04-29   TRAC   0.384615   0.358974   0.410256   0.384615   0.564103   \n",
              "\n",
              "            feature_6  feature_7  feature_8  feature_9  ...  feature_1133  \\\n",
              "date                                                    ...                 \n",
              "2018-04-29   0.897436   0.051282   0.000000   0.000000  ...      0.641026   \n",
              "2018-04-29   0.487179   0.153846   0.179487   0.051282  ...      0.820513   \n",
              "2018-04-29   0.410256   0.461538   0.230769   0.179487  ...      0.102564   \n",
              "2018-04-29   0.641026   0.717949   0.743590   0.256410  ...      0.435897   \n",
              "2018-04-29   0.256410   0.307692   0.384615   0.512821  ...      0.692308   \n",
              "\n",
              "            feature_1134  feature_1135  feature_1136  feature_1137  \\\n",
              "date                                                                 \n",
              "2018-04-29      0.589744      0.589744      0.666667      0.820513   \n",
              "2018-04-29      0.641026      0.564103      0.692308      0.743590   \n",
              "2018-04-29      0.051282      0.051282      0.102564      0.153846   \n",
              "2018-04-29      0.615385      0.666667      0.487179      0.410256   \n",
              "2018-04-29      0.794872      0.846154      0.717949      0.846154   \n",
              "\n",
              "            feature_1138  feature_1139  feature_DC1  target_neutral  \\\n",
              "date                                                                  \n",
              "2018-04-29      0.820513      0.871795     0.410256        0.743590   \n",
              "2018-04-29      0.717949      0.820513     0.358974        0.487179   \n",
              "2018-04-29      0.153846      0.153846     0.384615        0.948718   \n",
              "2018-04-29      0.512821      0.282051     0.871795        0.410256   \n",
              "2018-04-29      0.897436      0.743590     0.333333        0.820513   \n",
              "\n",
              "            target_updown  \n",
              "date                       \n",
              "2018-04-29       0.024718  \n",
              "2018-04-29      -0.022062  \n",
              "2018-04-29       0.198369  \n",
              "2018-04-29      -0.042060  \n",
              "2018-04-29       0.108134  \n",
              "\n",
              "[5 rows x 1143 columns]"
            ]
          },
          "execution_count": 3,
          "metadata": {},
          "output_type": "execute_result"
        }
      ],
      "source": [
        "# first column (symbol) is the ticker\n",
        "# 'target_updown' is the log of return for delta between current close to previous close\n",
        "# 'target_neutral' is the rank by Era using 'target_updown'\n",
        "# the rest of the columns are features to be used for ML\n",
        "train_dataset.head()"
      ]
    },
    {
      "cell_type": "code",
      "execution_count": null,
      "metadata": {
        "id": "V3mB2kntWKKO",
        "outputId": "bd4d713d-7cc0-4df3-dea6-8e2f084a64b5"
      },
      "outputs": [
        {
          "data": {
            "text/html": [
              "<div>\n",
              "<style scoped>\n",
              "    .dataframe tbody tr th:only-of-type {\n",
              "        vertical-align: middle;\n",
              "    }\n",
              "\n",
              "    .dataframe tbody tr th {\n",
              "        vertical-align: top;\n",
              "    }\n",
              "\n",
              "    .dataframe thead th {\n",
              "        text-align: right;\n",
              "    }\n",
              "</style>\n",
              "<table border=\"1\" class=\"dataframe\">\n",
              "  <thead>\n",
              "    <tr style=\"text-align: right;\">\n",
              "      <th></th>\n",
              "      <th>symbol</th>\n",
              "      <th>feature_1</th>\n",
              "      <th>feature_2</th>\n",
              "      <th>feature_3</th>\n",
              "      <th>feature_4</th>\n",
              "      <th>feature_5</th>\n",
              "      <th>feature_6</th>\n",
              "      <th>feature_7</th>\n",
              "      <th>feature_8</th>\n",
              "      <th>feature_9</th>\n",
              "      <th>...</th>\n",
              "      <th>feature_1133</th>\n",
              "      <th>feature_1134</th>\n",
              "      <th>feature_1135</th>\n",
              "      <th>feature_1136</th>\n",
              "      <th>feature_1137</th>\n",
              "      <th>feature_1138</th>\n",
              "      <th>feature_1139</th>\n",
              "      <th>feature_DC1</th>\n",
              "      <th>target_neutral</th>\n",
              "      <th>target_updown</th>\n",
              "    </tr>\n",
              "    <tr>\n",
              "      <th>date</th>\n",
              "      <th></th>\n",
              "      <th></th>\n",
              "      <th></th>\n",
              "      <th></th>\n",
              "      <th></th>\n",
              "      <th></th>\n",
              "      <th></th>\n",
              "      <th></th>\n",
              "      <th></th>\n",
              "      <th></th>\n",
              "      <th></th>\n",
              "      <th></th>\n",
              "      <th></th>\n",
              "      <th></th>\n",
              "      <th></th>\n",
              "      <th></th>\n",
              "      <th></th>\n",
              "      <th></th>\n",
              "      <th></th>\n",
              "      <th></th>\n",
              "      <th></th>\n",
              "    </tr>\n",
              "  </thead>\n",
              "  <tbody>\n",
              "    <tr>\n",
              "      <th>2023-04-09</th>\n",
              "      <td>BTC</td>\n",
              "      <td>0.001312</td>\n",
              "      <td>0.998688</td>\n",
              "      <td>1.000000</td>\n",
              "      <td>0.997375</td>\n",
              "      <td>1.000000</td>\n",
              "      <td>0.997375</td>\n",
              "      <td>1.000000</td>\n",
              "      <td>0.998688</td>\n",
              "      <td>1.000000</td>\n",
              "      <td>...</td>\n",
              "      <td>0.566929</td>\n",
              "      <td>0.667979</td>\n",
              "      <td>0.707349</td>\n",
              "      <td>0.607612</td>\n",
              "      <td>0.803150</td>\n",
              "      <td>0.833333</td>\n",
              "      <td>0.761155</td>\n",
              "      <td>0.489501</td>\n",
              "      <td>NaN</td>\n",
              "      <td>NaN</td>\n",
              "    </tr>\n",
              "    <tr>\n",
              "      <th>2023-04-09</th>\n",
              "      <td>LTC</td>\n",
              "      <td>0.944882</td>\n",
              "      <td>0.968504</td>\n",
              "      <td>0.946194</td>\n",
              "      <td>0.148294</td>\n",
              "      <td>0.969816</td>\n",
              "      <td>0.956693</td>\n",
              "      <td>0.947507</td>\n",
              "      <td>0.975066</td>\n",
              "      <td>0.972441</td>\n",
              "      <td>...</td>\n",
              "      <td>0.367454</td>\n",
              "      <td>0.434383</td>\n",
              "      <td>0.434383</td>\n",
              "      <td>0.398950</td>\n",
              "      <td>0.569554</td>\n",
              "      <td>0.586614</td>\n",
              "      <td>0.556430</td>\n",
              "      <td>0.284777</td>\n",
              "      <td>NaN</td>\n",
              "      <td>NaN</td>\n",
              "    </tr>\n",
              "    <tr>\n",
              "      <th>2023-04-09</th>\n",
              "      <td>TRX</td>\n",
              "      <td>0.163386</td>\n",
              "      <td>0.124016</td>\n",
              "      <td>0.126640</td>\n",
              "      <td>0.150262</td>\n",
              "      <td>0.015748</td>\n",
              "      <td>0.024934</td>\n",
              "      <td>0.011811</td>\n",
              "      <td>0.007874</td>\n",
              "      <td>0.039370</td>\n",
              "      <td>...</td>\n",
              "      <td>0.992126</td>\n",
              "      <td>0.993438</td>\n",
              "      <td>0.994751</td>\n",
              "      <td>0.993438</td>\n",
              "      <td>0.994751</td>\n",
              "      <td>0.994751</td>\n",
              "      <td>0.994751</td>\n",
              "      <td>0.774934</td>\n",
              "      <td>NaN</td>\n",
              "      <td>NaN</td>\n",
              "    </tr>\n",
              "    <tr>\n",
              "      <th>2023-04-09</th>\n",
              "      <td>DOGE</td>\n",
              "      <td>0.994751</td>\n",
              "      <td>0.990814</td>\n",
              "      <td>0.993438</td>\n",
              "      <td>0.990814</td>\n",
              "      <td>0.990814</td>\n",
              "      <td>0.985564</td>\n",
              "      <td>0.986877</td>\n",
              "      <td>0.990814</td>\n",
              "      <td>0.993438</td>\n",
              "      <td>...</td>\n",
              "      <td>0.523622</td>\n",
              "      <td>0.583990</td>\n",
              "      <td>0.612861</td>\n",
              "      <td>0.531496</td>\n",
              "      <td>0.377953</td>\n",
              "      <td>0.429134</td>\n",
              "      <td>0.324147</td>\n",
              "      <td>0.778215</td>\n",
              "      <td>NaN</td>\n",
              "      <td>NaN</td>\n",
              "    </tr>\n",
              "    <tr>\n",
              "      <th>2023-04-09</th>\n",
              "      <td>XMR</td>\n",
              "      <td>0.870079</td>\n",
              "      <td>0.125984</td>\n",
              "      <td>0.842520</td>\n",
              "      <td>0.158793</td>\n",
              "      <td>0.034121</td>\n",
              "      <td>0.123360</td>\n",
              "      <td>0.035433</td>\n",
              "      <td>0.057743</td>\n",
              "      <td>0.030184</td>\n",
              "      <td>...</td>\n",
              "      <td>0.000000</td>\n",
              "      <td>0.000000</td>\n",
              "      <td>0.000000</td>\n",
              "      <td>0.000000</td>\n",
              "      <td>0.000000</td>\n",
              "      <td>0.000000</td>\n",
              "      <td>0.000000</td>\n",
              "      <td>0.337270</td>\n",
              "      <td>NaN</td>\n",
              "      <td>NaN</td>\n",
              "    </tr>\n",
              "  </tbody>\n",
              "</table>\n",
              "<p>5 rows × 1143 columns</p>\n",
              "</div>"
            ],
            "text/plain": [
              "           symbol  feature_1  feature_2  feature_3  feature_4  feature_5  \\\n",
              "date                                                                       \n",
              "2023-04-09    BTC   0.001312   0.998688   1.000000   0.997375   1.000000   \n",
              "2023-04-09    LTC   0.944882   0.968504   0.946194   0.148294   0.969816   \n",
              "2023-04-09    TRX   0.163386   0.124016   0.126640   0.150262   0.015748   \n",
              "2023-04-09   DOGE   0.994751   0.990814   0.993438   0.990814   0.990814   \n",
              "2023-04-09    XMR   0.870079   0.125984   0.842520   0.158793   0.034121   \n",
              "\n",
              "            feature_6  feature_7  feature_8  feature_9  ...  feature_1133  \\\n",
              "date                                                    ...                 \n",
              "2023-04-09   0.997375   1.000000   0.998688   1.000000  ...      0.566929   \n",
              "2023-04-09   0.956693   0.947507   0.975066   0.972441  ...      0.367454   \n",
              "2023-04-09   0.024934   0.011811   0.007874   0.039370  ...      0.992126   \n",
              "2023-04-09   0.985564   0.986877   0.990814   0.993438  ...      0.523622   \n",
              "2023-04-09   0.123360   0.035433   0.057743   0.030184  ...      0.000000   \n",
              "\n",
              "            feature_1134  feature_1135  feature_1136  feature_1137  \\\n",
              "date                                                                 \n",
              "2023-04-09      0.667979      0.707349      0.607612      0.803150   \n",
              "2023-04-09      0.434383      0.434383      0.398950      0.569554   \n",
              "2023-04-09      0.993438      0.994751      0.993438      0.994751   \n",
              "2023-04-09      0.583990      0.612861      0.531496      0.377953   \n",
              "2023-04-09      0.000000      0.000000      0.000000      0.000000   \n",
              "\n",
              "            feature_1138  feature_1139  feature_DC1  target_neutral  \\\n",
              "date                                                                  \n",
              "2023-04-09      0.833333      0.761155     0.489501             NaN   \n",
              "2023-04-09      0.586614      0.556430     0.284777             NaN   \n",
              "2023-04-09      0.994751      0.994751     0.774934             NaN   \n",
              "2023-04-09      0.429134      0.324147     0.778215             NaN   \n",
              "2023-04-09      0.000000      0.000000     0.337270             NaN   \n",
              "\n",
              "            target_updown  \n",
              "date                       \n",
              "2023-04-09            NaN  \n",
              "2023-04-09            NaN  \n",
              "2023-04-09            NaN  \n",
              "2023-04-09            NaN  \n",
              "2023-04-09            NaN  \n",
              "\n",
              "[5 rows x 1143 columns]"
            ]
          },
          "execution_count": 4,
          "metadata": {},
          "output_type": "execute_result"
        }
      ],
      "source": [
        "# validation_dataset is the latest data from most recent Era\n",
        "# it has the same structure as the dataset, however 'target_updown' and 'target_neutral' are NaN\n",
        "validation_dataset.head()"
      ]
    },
    {
      "cell_type": "markdown",
      "metadata": {
        "id": "cFl8vMyZWKKO"
      },
      "source": [
        "## Create X and y from dataset\n",
        "- Currently there are 2 competitions user could participate:\n",
        "- (i) UpDown (using target_updown as target)\n",
        "- (ii) Market Neutral (using target_neutral as target)"
      ]
    },
    {
      "cell_type": "code",
      "execution_count": null,
      "metadata": {
        "id": "pINDIhY9WKKO"
      },
      "outputs": [],
      "source": [
        "# X is all the columns except the 'symbol', 'target_updown', 'target_neutral'\n",
        "X = train_dataset.iloc[:, 1:-2]\n",
        "\n",
        "# y is just the target\n",
        "y_updown = train_dataset.target_updown\n",
        "y_neutral = train_dataset.target_neutral\n",
        "\n",
        "# symbols\n",
        "symbols = train_dataset.symbol"
      ]
    },
    {
      "cell_type": "code",
      "execution_count": null,
      "metadata": {
        "id": "CCAJA-vbWKKO",
        "outputId": "f99a3657-f4da-48f2-8a5f-d5530f6c0916"
      },
      "outputs": [
        {
          "data": {
            "text/html": [
              "<div>\n",
              "<style scoped>\n",
              "    .dataframe tbody tr th:only-of-type {\n",
              "        vertical-align: middle;\n",
              "    }\n",
              "\n",
              "    .dataframe tbody tr th {\n",
              "        vertical-align: top;\n",
              "    }\n",
              "\n",
              "    .dataframe thead th {\n",
              "        text-align: right;\n",
              "    }\n",
              "</style>\n",
              "<table border=\"1\" class=\"dataframe\">\n",
              "  <thead>\n",
              "    <tr style=\"text-align: right;\">\n",
              "      <th></th>\n",
              "      <th>feature_1</th>\n",
              "      <th>feature_2</th>\n",
              "      <th>feature_3</th>\n",
              "      <th>feature_4</th>\n",
              "      <th>feature_5</th>\n",
              "      <th>feature_6</th>\n",
              "      <th>feature_7</th>\n",
              "      <th>feature_8</th>\n",
              "      <th>feature_9</th>\n",
              "      <th>feature_10</th>\n",
              "      <th>...</th>\n",
              "      <th>feature_1131</th>\n",
              "      <th>feature_1132</th>\n",
              "      <th>feature_1133</th>\n",
              "      <th>feature_1134</th>\n",
              "      <th>feature_1135</th>\n",
              "      <th>feature_1136</th>\n",
              "      <th>feature_1137</th>\n",
              "      <th>feature_1138</th>\n",
              "      <th>feature_1139</th>\n",
              "      <th>feature_DC1</th>\n",
              "    </tr>\n",
              "    <tr>\n",
              "      <th>date</th>\n",
              "      <th></th>\n",
              "      <th></th>\n",
              "      <th></th>\n",
              "      <th></th>\n",
              "      <th></th>\n",
              "      <th></th>\n",
              "      <th></th>\n",
              "      <th></th>\n",
              "      <th></th>\n",
              "      <th></th>\n",
              "      <th></th>\n",
              "      <th></th>\n",
              "      <th></th>\n",
              "      <th></th>\n",
              "      <th></th>\n",
              "      <th></th>\n",
              "      <th></th>\n",
              "      <th></th>\n",
              "      <th></th>\n",
              "      <th></th>\n",
              "      <th></th>\n",
              "    </tr>\n",
              "  </thead>\n",
              "  <tbody>\n",
              "    <tr>\n",
              "      <th>2018-04-29</th>\n",
              "      <td>0.025641</td>\n",
              "      <td>0.000000</td>\n",
              "      <td>0.000000</td>\n",
              "      <td>0.923077</td>\n",
              "      <td>0.000000</td>\n",
              "      <td>0.897436</td>\n",
              "      <td>0.051282</td>\n",
              "      <td>0.000000</td>\n",
              "      <td>0.000000</td>\n",
              "      <td>0.871795</td>\n",
              "      <td>...</td>\n",
              "      <td>0.769231</td>\n",
              "      <td>0.794872</td>\n",
              "      <td>0.641026</td>\n",
              "      <td>0.589744</td>\n",
              "      <td>0.589744</td>\n",
              "      <td>0.666667</td>\n",
              "      <td>0.820513</td>\n",
              "      <td>0.820513</td>\n",
              "      <td>0.871795</td>\n",
              "      <td>0.410256</td>\n",
              "    </tr>\n",
              "    <tr>\n",
              "      <th>2018-04-29</th>\n",
              "      <td>0.333333</td>\n",
              "      <td>0.076923</td>\n",
              "      <td>0.025641</td>\n",
              "      <td>0.025641</td>\n",
              "      <td>0.641026</td>\n",
              "      <td>0.487179</td>\n",
              "      <td>0.153846</td>\n",
              "      <td>0.179487</td>\n",
              "      <td>0.051282</td>\n",
              "      <td>0.153846</td>\n",
              "      <td>...</td>\n",
              "      <td>0.743590</td>\n",
              "      <td>0.871795</td>\n",
              "      <td>0.820513</td>\n",
              "      <td>0.641026</td>\n",
              "      <td>0.564103</td>\n",
              "      <td>0.692308</td>\n",
              "      <td>0.743590</td>\n",
              "      <td>0.717949</td>\n",
              "      <td>0.820513</td>\n",
              "      <td>0.358974</td>\n",
              "    </tr>\n",
              "    <tr>\n",
              "      <th>2018-04-29</th>\n",
              "      <td>0.589744</td>\n",
              "      <td>0.589744</td>\n",
              "      <td>0.512821</td>\n",
              "      <td>0.564103</td>\n",
              "      <td>0.512821</td>\n",
              "      <td>0.410256</td>\n",
              "      <td>0.461538</td>\n",
              "      <td>0.230769</td>\n",
              "      <td>0.179487</td>\n",
              "      <td>0.256410</td>\n",
              "      <td>...</td>\n",
              "      <td>0.153846</td>\n",
              "      <td>0.205128</td>\n",
              "      <td>0.102564</td>\n",
              "      <td>0.051282</td>\n",
              "      <td>0.051282</td>\n",
              "      <td>0.102564</td>\n",
              "      <td>0.153846</td>\n",
              "      <td>0.153846</td>\n",
              "      <td>0.153846</td>\n",
              "      <td>0.384615</td>\n",
              "    </tr>\n",
              "    <tr>\n",
              "      <th>2018-04-29</th>\n",
              "      <td>0.846154</td>\n",
              "      <td>0.717949</td>\n",
              "      <td>0.743590</td>\n",
              "      <td>0.743590</td>\n",
              "      <td>0.102564</td>\n",
              "      <td>0.641026</td>\n",
              "      <td>0.717949</td>\n",
              "      <td>0.743590</td>\n",
              "      <td>0.256410</td>\n",
              "      <td>0.717949</td>\n",
              "      <td>...</td>\n",
              "      <td>0.512821</td>\n",
              "      <td>0.307692</td>\n",
              "      <td>0.435897</td>\n",
              "      <td>0.615385</td>\n",
              "      <td>0.666667</td>\n",
              "      <td>0.487179</td>\n",
              "      <td>0.410256</td>\n",
              "      <td>0.512821</td>\n",
              "      <td>0.282051</td>\n",
              "      <td>0.871795</td>\n",
              "    </tr>\n",
              "    <tr>\n",
              "      <th>2018-04-29</th>\n",
              "      <td>0.384615</td>\n",
              "      <td>0.358974</td>\n",
              "      <td>0.410256</td>\n",
              "      <td>0.384615</td>\n",
              "      <td>0.564103</td>\n",
              "      <td>0.256410</td>\n",
              "      <td>0.307692</td>\n",
              "      <td>0.384615</td>\n",
              "      <td>0.512821</td>\n",
              "      <td>0.461538</td>\n",
              "      <td>...</td>\n",
              "      <td>0.846154</td>\n",
              "      <td>0.769231</td>\n",
              "      <td>0.692308</td>\n",
              "      <td>0.794872</td>\n",
              "      <td>0.846154</td>\n",
              "      <td>0.717949</td>\n",
              "      <td>0.846154</td>\n",
              "      <td>0.897436</td>\n",
              "      <td>0.743590</td>\n",
              "      <td>0.333333</td>\n",
              "    </tr>\n",
              "  </tbody>\n",
              "</table>\n",
              "<p>5 rows × 1140 columns</p>\n",
              "</div>"
            ],
            "text/plain": [
              "            feature_1  feature_2  feature_3  feature_4  feature_5  feature_6  \\\n",
              "date                                                                           \n",
              "2018-04-29   0.025641   0.000000   0.000000   0.923077   0.000000   0.897436   \n",
              "2018-04-29   0.333333   0.076923   0.025641   0.025641   0.641026   0.487179   \n",
              "2018-04-29   0.589744   0.589744   0.512821   0.564103   0.512821   0.410256   \n",
              "2018-04-29   0.846154   0.717949   0.743590   0.743590   0.102564   0.641026   \n",
              "2018-04-29   0.384615   0.358974   0.410256   0.384615   0.564103   0.256410   \n",
              "\n",
              "            feature_7  feature_8  feature_9  feature_10  ...  feature_1131  \\\n",
              "date                                                     ...                 \n",
              "2018-04-29   0.051282   0.000000   0.000000    0.871795  ...      0.769231   \n",
              "2018-04-29   0.153846   0.179487   0.051282    0.153846  ...      0.743590   \n",
              "2018-04-29   0.461538   0.230769   0.179487    0.256410  ...      0.153846   \n",
              "2018-04-29   0.717949   0.743590   0.256410    0.717949  ...      0.512821   \n",
              "2018-04-29   0.307692   0.384615   0.512821    0.461538  ...      0.846154   \n",
              "\n",
              "            feature_1132  feature_1133  feature_1134  feature_1135  \\\n",
              "date                                                                 \n",
              "2018-04-29      0.794872      0.641026      0.589744      0.589744   \n",
              "2018-04-29      0.871795      0.820513      0.641026      0.564103   \n",
              "2018-04-29      0.205128      0.102564      0.051282      0.051282   \n",
              "2018-04-29      0.307692      0.435897      0.615385      0.666667   \n",
              "2018-04-29      0.769231      0.692308      0.794872      0.846154   \n",
              "\n",
              "            feature_1136  feature_1137  feature_1138  feature_1139  \\\n",
              "date                                                                 \n",
              "2018-04-29      0.666667      0.820513      0.820513      0.871795   \n",
              "2018-04-29      0.692308      0.743590      0.717949      0.820513   \n",
              "2018-04-29      0.102564      0.153846      0.153846      0.153846   \n",
              "2018-04-29      0.487179      0.410256      0.512821      0.282051   \n",
              "2018-04-29      0.717949      0.846154      0.897436      0.743590   \n",
              "\n",
              "            feature_DC1  \n",
              "date                     \n",
              "2018-04-29     0.410256  \n",
              "2018-04-29     0.358974  \n",
              "2018-04-29     0.384615  \n",
              "2018-04-29     0.871795  \n",
              "2018-04-29     0.333333  \n",
              "\n",
              "[5 rows x 1140 columns]"
            ]
          },
          "execution_count": 6,
          "metadata": {},
          "output_type": "execute_result"
        }
      ],
      "source": [
        "X.head()"
      ]
    },
    {
      "cell_type": "code",
      "execution_count": null,
      "metadata": {
        "id": "hBHF03pEWKKP",
        "outputId": "2c36f49f-859e-4a19-acb8-16b696e69493"
      },
      "outputs": [
        {
          "data": {
            "text/plain": [
              "date\n",
              "2018-04-29    0.024718\n",
              "2018-04-29   -0.022062\n",
              "2018-04-29    0.198369\n",
              "2018-04-29   -0.042060\n",
              "2018-04-29    0.108134\n",
              "Name: target_updown, dtype: float64"
            ]
          },
          "execution_count": 7,
          "metadata": {},
          "output_type": "execute_result"
        }
      ],
      "source": [
        "y_updown.head()"
      ]
    },
    {
      "cell_type": "code",
      "execution_count": null,
      "metadata": {
        "id": "lS39GWEeWKKP",
        "outputId": "b6fb1cc0-0291-43a3-b756-bb847f92e88f"
      },
      "outputs": [
        {
          "data": {
            "text/plain": [
              "date\n",
              "2018-04-29    0.743590\n",
              "2018-04-29    0.487179\n",
              "2018-04-29    0.948718\n",
              "2018-04-29    0.410256\n",
              "2018-04-29    0.820513\n",
              "Name: target_neutral, dtype: float64"
            ]
          },
          "execution_count": 8,
          "metadata": {},
          "output_type": "execute_result"
        }
      ],
      "source": [
        "y_neutral.head()"
      ]
    },
    {
      "cell_type": "markdown",
      "metadata": {
        "id": "x7QTipPuWKKP"
      },
      "source": [
        "## Split X, y into train and test"
      ]
    },
    {
      "cell_type": "code",
      "execution_count": null,
      "metadata": {
        "id": "QFTC5_qKWKKP",
        "outputId": "4b2b8220-84d3-4573-d494-a445de4f9da6"
      },
      "outputs": [
        {
          "name": "stdout",
          "output_type": "stream",
          "text": [
            "total Era: 258\n",
            "train Era: 232\n",
            "test Era: 26\n"
          ]
        }
      ],
      "source": [
        "train = 0.9\n",
        "test = 0.1\n",
        "era = len(X.index.unique())\n",
        "train_era = int(era * train)\n",
        "test_era = era - train_era\n",
        "print('total Era: {}'.format(era))\n",
        "print('train Era: {}'.format(train_era))\n",
        "print('test Era: {}'.format(test_era))\n"
      ]
    },
    {
      "cell_type": "code",
      "execution_count": null,
      "metadata": {
        "id": "mCoWm55YWKKP",
        "outputId": "3e6acf06-fa6c-4fa4-fe78-b52b16d614fc"
      },
      "outputs": [
        {
          "name": "stdout",
          "output_type": "stream",
          "text": [
            "X_train shape: (95290, 1140)\n",
            "X_test shape: (19454, 1140)\n"
          ]
        }
      ],
      "source": [
        "#split train and test set according to the train_era and test_era\n",
        "X_train = X[X.index < X.index.unique()[train_era]]\n",
        "y_updown_train = y_updown[y_updown.index < y_updown.index.unique()[train_era]]\n",
        "y_neutral_train = y_neutral[y_neutral.index < y_neutral.index.unique()[train_era]]\n",
        "symbols_train = symbols[symbols.index < symbols.index.unique()[train_era]]\n",
        "\n",
        "X_test = X[X.index >= X.index.unique()[train_era]]\n",
        "y_updown_test = y_updown[y_updown.index >= y_updown.index.unique()[train_era]]\n",
        "y_neutral_test = y_neutral[y_neutral.index >= y_neutral.index.unique()[train_era]]\n",
        "symbols_test = symbols[symbols.index >= symbols.index.unique()[train_era]]\n",
        "\n",
        "print('X_train shape: {}'.format(X_train.shape))\n",
        "print('X_test shape: {}'.format(X_test.shape))\n"
      ]
    },
    {
      "cell_type": "markdown",
      "metadata": {
        "id": "umg7-Z9hWKKQ"
      },
      "source": [
        "## As stated in the white paper, for both competitions, the goodness of the predictions will be measured using the portfolio return of 36 tradeable assets (subject to change) as state below:"
      ]
    },
    {
      "cell_type": "code",
      "execution_count": null,
      "metadata": {
        "id": "26-eGS7MWKKQ"
      },
      "outputs": [],
      "source": [
        "dydx_ticker_list = ['1INCH', 'AAVE', 'ADA', 'ALGO', 'ATOM', 'AVAX', 'BCH', 'BTC', 'CELO', 'COMP', 'CRV', 'DOGE', 'DOT', 'ENJ', \n",
        "                    'EOS', 'ETC', 'ETH', 'FIL', 'ICP', 'LINK', 'LTC', 'MATIC', 'MKR', 'NEAR', 'RUNE', 'SNX', 'SOL', 'SUSHI', \n",
        "                    'TRX', 'UMA', 'UNI', 'XLM', 'XMR', 'XTZ', 'YFI', 'ZEC', 'ZRX']"
      ]
    },
    {
      "cell_type": "markdown",
      "metadata": {
        "id": "GP61IRcdWKKQ"
      },
      "source": [
        "## Each era representing a set of cryptocurrency assets for the time period, the number of assets within each Era is different"
      ]
    },
    {
      "cell_type": "code",
      "execution_count": null,
      "metadata": {
        "id": "U7Ik7CNqWKKQ",
        "outputId": "a9daa135-d94d-4b71-d8d3-dcda160470c6"
      },
      "outputs": [
        {
          "data": {
            "image/png": "[encoded data removed]",
            "text/plain": [
              "<Figure size 720x360 with 1 Axes>"
            ]
          },
          "metadata": {
            "needs_background": "light"
          },
          "output_type": "display_data"
        }
      ],
      "source": [
        "train_dataset.groupby(train_dataset.index).count().iloc[:,0].plot(figsize = (10,5), grid=True);"
      ]
    },
    {
      "cell_type": "code",
      "execution_count": null,
      "metadata": {
        "id": "oej2HUb4WKKQ",
        "outputId": "e5ed9830-3e67-422d-cf4e-f896b670c585"
      },
      "outputs": [
        {
          "data": {
            "image/png": "[encoded data removed]",
            "text/plain": [
              "<Figure size 720x360 with 1 Axes>"
            ]
          },
          "metadata": {
            "needs_background": "light"
          },
          "output_type": "display_data"
        }
      ],
      "source": [
        "dydx_subset_df = train_dataset[train_dataset.symbol.isin(dydx_ticker_list)]\n",
        "dydx_subset_df.groupby(dydx_subset_df.index).count().iloc[:,0].plot(figsize = (10,5), grid=True);"
      ]
    },
    {
      "cell_type": "markdown",
      "metadata": {
        "id": "jnYaocrDWKKQ"
      },
      "source": [
        "# For MARKET NEUTRAL competition"
      ]
    },
    {
      "cell_type": "markdown",
      "metadata": {
        "id": "CNmKk-ugWKKQ"
      },
      "source": [
        "## We could use simple Linear Regression to train a model and check the Spearman correlation"
      ]
    },
    {
      "cell_type": "code",
      "execution_count": null,
      "metadata": {
        "id": "-CvO8MAKWKKQ"
      },
      "outputs": [],
      "source": [
        "from sklearn.linear_model import LinearRegression\n",
        "\n",
        "reg_market_neutral = LinearRegression(n_jobs=-1).fit(X_train, y_neutral_train)"
      ]
    },
    {
      "cell_type": "code",
      "execution_count": null,
      "metadata": {
        "id": "IVPETKmbWKKQ",
        "outputId": "e1a1c130-3081-4062-834f-d3f60f02444d"
      },
      "outputs": [
        {
          "name": "stdout",
          "output_type": "stream",
          "text": [
            "Train dataset Spearman correlation by era: mean = 0.1763 ; std = 0.0762 ; max = 0.3725 ; min = -0.0774\n",
            "Test dataset Spearman correlation by era: mean = 0.0967 ; std = 0.0849 ; max = 0.3243 ; min = -0.0745\n",
            "Train dataset return by era: mean = 0.0255 ; std = 0.1226 ; max = 0.3802 ; min = -0.3387\n",
            "Test dataset return by era: mean = 0.0105 ; std = 0.0845 ; max = 0.1892 ; min = -0.1497\n"
          ]
        }
      ],
      "source": [
        "# function to calculate Spearman correlation by era (mean, std, max, min)\n",
        "\n",
        "def spearman_by_era(prediction, target):\n",
        "    df = pd.DataFrame(index=target.index,\n",
        "                    data = {'prediction': prediction,\n",
        "                            'target': target}\n",
        "                    )\n",
        "  \n",
        "    spearman_era_list = []\n",
        "    for era in df.index.unique():\n",
        "        era_df = df[df.index == era]\n",
        "        spearman_corr = sp.stats.spearmanr(era_df.prediction, era_df.target)[0]\n",
        "        spearman_era_list.append(spearman_corr)\n",
        "\n",
        "    mean = round(np.mean(spearman_era_list), 4)\n",
        "    std = round(np.std(spearman_era_list), 4)\n",
        "    max = round(np.max(spearman_era_list), 4)\n",
        "    min = round(np.min(spearman_era_list), 4)\n",
        "    return mean, std, max, min\n",
        "\n",
        "# function to calculate portfolio return by era (mean, std, max, min)\n",
        "\n",
        "def calculate_return(symbols, prediction, target):\n",
        "    df = pd.DataFrame(index=target.index,\n",
        "                    data = {'symbol': symbols,\n",
        "                            'prediction': prediction,\n",
        "                            'target': target}\n",
        "                    )\n",
        "    \n",
        "    dfs = df[df.symbol.isin(dydx_ticker_list)]\n",
        "    \n",
        "    return_era_list = []\n",
        "    for era in dfs.index.unique():\n",
        "        era_df = dfs[dfs.index == era]\n",
        "        \n",
        "        # re-center predictions to it's median to have a market neutral strategy\n",
        "        predictions = era_df.prediction - era_df.prediction.median()\n",
        "        \n",
        "        # compute allocations\n",
        "        allocations = predictions / sum(abs(predictions))\n",
        "        \n",
        "        # compute gain as dot product between allocation and relative deltas\n",
        "        pct_gain = np.dot(allocations, era_df.target)\n",
        "        \n",
        "        return_era_list.append(pct_gain)\n",
        "\n",
        "    mean = round(np.mean(return_era_list), 4)\n",
        "    std = round(np.std(return_era_list), 4)\n",
        "    max = round(np.max(return_era_list), 4)\n",
        "    min = round(np.min(return_era_list), 4)\n",
        "    return mean, std, max, min\n",
        "\n",
        "y_pred_train = reg_market_neutral.predict(X_train)\n",
        "train_spearman = spearman_by_era(y_pred_train, y_neutral_train)\n",
        "print('Train dataset Spearman correlation by era: mean = {} ; std = {} ; max = {} ; min = {}'.format(train_spearman[0],\n",
        "                                                                                             train_spearman[1],\n",
        "                                                                                             train_spearman[2],\n",
        "                                                                                             train_spearman[3]))\n",
        "\n",
        "y_pred_test = reg_market_neutral.predict(X_test)\n",
        "test_spearman = spearman_by_era(y_pred_test, y_neutral_test)\n",
        "print('Test dataset Spearman correlation by era: mean = {} ; std = {} ; max = {} ; min = {}'.format(test_spearman[0],\n",
        "                                                                                             test_spearman[1],\n",
        "                                                                                             test_spearman[2],\n",
        "                                                                                             test_spearman[3]))\n",
        "\n",
        "train_return = calculate_return(symbols_train, y_pred_train, y_neutral_train)\n",
        "print('Train dataset return by era: mean = {} ; std = {} ; max = {} ; min = {}'.format(train_return[0],\n",
        "                                                                                 train_return[1],\n",
        "                                                                                 train_return[2],\n",
        "                                                                                 train_return[3]))\n",
        "\n",
        "test_return = calculate_return(symbols_test, y_pred_test, y_neutral_test)\n",
        "print('Test dataset return by era: mean = {} ; std = {} ; max = {} ; min = {}'.format(test_return[0],\n",
        "                                                                                 test_return[1],\n",
        "                                                                                 test_return[2],\n",
        "                                                                                 test_return[3]))\n"
      ]
    },
    {
      "cell_type": "code",
      "execution_count": null,
      "metadata": {
        "id": "ejE1lCGmWKKR",
        "outputId": "5f9c0eb0-6b57-452d-98f9-af003d2c7aef"
      },
      "outputs": [
        {
          "data": {
            "text/plain": [
              "array([0.49591362, 0.50246538, 0.5812323 , 0.52203814, 0.5633035 ])"
            ]
          },
          "execution_count": 16,
          "metadata": {},
          "output_type": "execute_result"
        }
      ],
      "source": [
        "# Use the trained Linear Regression model to make prediction on latest data\n",
        "\n",
        "X_validation = validation_dataset.iloc[:, 1:-2]\n",
        "y_validation_market_neutral = reg_market_neutral.predict(X_validation)\n",
        "\n",
        "y_validation_market_neutral[:5]"
      ]
    },
    {
      "cell_type": "markdown",
      "metadata": {
        "id": "sGL0J2O9WKKR"
      },
      "source": [
        "## Let's use the prediction from linear regression to join with validation dataset symbol for submission"
      ]
    },
    {
      "cell_type": "code",
      "execution_count": null,
      "metadata": {
        "id": "4U-kqXubWKKR",
        "outputId": "f91a3237-2021-4005-bdaf-9d5b6ebe33e0"
      },
      "outputs": [
        {
          "data": {
            "text/html": [
              "<div>\n",
              "<style scoped>\n",
              "    .dataframe tbody tr th:only-of-type {\n",
              "        vertical-align: middle;\n",
              "    }\n",
              "\n",
              "    .dataframe tbody tr th {\n",
              "        vertical-align: top;\n",
              "    }\n",
              "\n",
              "    .dataframe thead th {\n",
              "        text-align: right;\n",
              "    }\n",
              "</style>\n",
              "<table border=\"1\" class=\"dataframe\">\n",
              "  <thead>\n",
              "    <tr style=\"text-align: right;\">\n",
              "      <th></th>\n",
              "      <th>symbol</th>\n",
              "      <th>prediction</th>\n",
              "    </tr>\n",
              "  </thead>\n",
              "  <tbody>\n",
              "    <tr>\n",
              "      <th>138</th>\n",
              "      <td>DAV</td>\n",
              "      <td>0.247644</td>\n",
              "    </tr>\n",
              "    <tr>\n",
              "      <th>318</th>\n",
              "      <td>APY</td>\n",
              "      <td>0.258641</td>\n",
              "    </tr>\n",
              "    <tr>\n",
              "      <th>433</th>\n",
              "      <td>ERN</td>\n",
              "      <td>0.260695</td>\n",
              "    </tr>\n",
              "    <tr>\n",
              "      <th>695</th>\n",
              "      <td>CUBE</td>\n",
              "      <td>0.318956</td>\n",
              "    </tr>\n",
              "    <tr>\n",
              "      <th>445</th>\n",
              "      <td>PMGT</td>\n",
              "      <td>0.332527</td>\n",
              "    </tr>\n",
              "    <tr>\n",
              "      <th>...</th>\n",
              "      <td>...</td>\n",
              "      <td>...</td>\n",
              "    </tr>\n",
              "    <tr>\n",
              "      <th>744</th>\n",
              "      <td>SWM</td>\n",
              "      <td>0.675978</td>\n",
              "    </tr>\n",
              "    <tr>\n",
              "      <th>518</th>\n",
              "      <td>BALPHA</td>\n",
              "      <td>0.733247</td>\n",
              "    </tr>\n",
              "    <tr>\n",
              "      <th>459</th>\n",
              "      <td>ORME</td>\n",
              "      <td>0.734097</td>\n",
              "    </tr>\n",
              "    <tr>\n",
              "      <th>241</th>\n",
              "      <td>CNB</td>\n",
              "      <td>0.737732</td>\n",
              "    </tr>\n",
              "    <tr>\n",
              "      <th>479</th>\n",
              "      <td>XSR</td>\n",
              "      <td>0.744071</td>\n",
              "    </tr>\n",
              "  </tbody>\n",
              "</table>\n",
              "<p>763 rows × 2 columns</p>\n",
              "</div>"
            ],
            "text/plain": [
              "     symbol  prediction\n",
              "138     DAV    0.247644\n",
              "318     APY    0.258641\n",
              "433     ERN    0.260695\n",
              "695    CUBE    0.318956\n",
              "445    PMGT    0.332527\n",
              "..      ...         ...\n",
              "744     SWM    0.675978\n",
              "518  BALPHA    0.733247\n",
              "459    ORME    0.734097\n",
              "241     CNB    0.737732\n",
              "479     XSR    0.744071\n",
              "\n",
              "[763 rows x 2 columns]"
            ]
          },
          "execution_count": 17,
          "metadata": {},
          "output_type": "execute_result"
        }
      ],
      "source": [
        "prediction_market_neutral = pd.DataFrame()\n",
        "prediction_market_neutral['symbol'] = list(validation_dataset.symbol)\n",
        "prediction_market_neutral['prediction'] = y_validation_market_neutral\n",
        "\n",
        "# sort the prediction to check which symbol is weaker and stronger, ie. FOX is weakest; BTC is strongest\n",
        "prediction_market_neutral.sort_values('prediction')"
      ]
    },
    {
      "cell_type": "markdown",
      "metadata": {
        "id": "46xR-GLKWKKR"
      },
      "source": [
        "## Check is the prediction in accordance for submission format"
      ]
    },
    {
      "cell_type": "code",
      "execution_count": null,
      "metadata": {
        "id": "gGnPHADaWKKR",
        "outputId": "1a605c34-2c71-48bd-ceaf-9d3fdf522f25"
      },
      "outputs": [
        {
          "name": "stdout",
          "output_type": "stream",
          "text": [
            "symbol matched!\n",
            "column counts ok!\n"
          ]
        }
      ],
      "source": [
        "#check if y_latest is in accordance to shape for submission\n",
        "if set(prediction_market_neutral.symbol) == set(validation_dataset.symbol):\n",
        "    print('symbol matched!')\n",
        "else:\n",
        "    print('symbol unmatched, the symbol in prediction df must match the symbol in validation_dataset...')\n",
        "    \n",
        "if prediction_market_neutral.shape[1] == 2:\n",
        "    print('column counts ok!')\n",
        "else:\n",
        "    print('It should have 2 columns, first column with symbol, second with prediction...')\n"
      ]
    },
    {
      "cell_type": "markdown",
      "metadata": {
        "id": "G-eLUMgIWKKR"
      },
      "source": [
        "## Output prediction as a .csv file for submission!"
      ]
    },
    {
      "cell_type": "code",
      "execution_count": null,
      "metadata": {
        "id": "GFcqPaULWKKR"
      },
      "outputs": [],
      "source": [
        "#Output submission as .csv file which stored in content/prediction folder\n",
        "import os\n",
        "if not os.path.exists('/content/prediction'):\n",
        "    os.makedirs('/content/prediction')\n",
        "prediction_market_neutral.to_csv('/content/prediction/prediction_market_neutral.csv', index = False, header = None)"
      ]
    },
    {
      "cell_type": "markdown",
      "metadata": {
        "id": "hsBjxMiIWKKR"
      },
      "source": [
        "# For UPDOWN competition"
      ]
    },
    {
      "cell_type": "markdown",
      "metadata": {
        "id": "tfqcB-flWKKR"
      },
      "source": [
        "## For demonstration we could also use Linear Regression to train a model and check the RMSE"
      ]
    },
    {
      "cell_type": "code",
      "execution_count": null,
      "metadata": {
        "id": "R0sKlgY4WKKR"
      },
      "outputs": [],
      "source": [
        "reg_updown = LinearRegression(n_jobs=-1).fit(X_train, y_updown_train)"
      ]
    },
    {
      "cell_type": "code",
      "execution_count": null,
      "metadata": {
        "id": "uHXbg-o-WKKR"
      },
      "outputs": [],
      "source": [
        "# function to calculate RMSE by era (mean, std, max, min)\n",
        "\n",
        "from sklearn.metrics import mean_squared_error\n",
        "\n",
        "def rmse_by_era(prediction, target):\n",
        "    df = pd.DataFrame(index=target.index,\n",
        "                    data = {'prediction': prediction,\n",
        "                            'target': target}\n",
        "                    )\n",
        "  \n",
        "    rmse_era_list = []\n",
        "    for era in df.index.unique():\n",
        "        era_df = df[df.index == era]\n",
        "        rmse = mean_squared_error(era_df.prediction, era_df.target, squared=False)\n",
        "        rmse_era_list.append(rmse)\n",
        "        \n",
        "    mean = round(np.mean(rmse_era_list), 4)\n",
        "    std = round(np.std(rmse_era_list), 4)\n",
        "    max = round(np.max(rmse_era_list), 4)\n",
        "    min = round(np.min(rmse_era_list), 4)\n",
        "    return mean, std, max, min\n",
        "\n",
        "# function to calculate portfolio return by era (mean, std, max, min)\n",
        "def calculate_return(symbols, prediction, target):\n",
        "    df = pd.DataFrame(index=target.index,\n",
        "                    data = {'symbol': symbols,\n",
        "                            'prediction': prediction,\n",
        "                            'target': target}\n",
        "                    )\n",
        "    \n",
        "    dfs = df[df.symbol.isin(dydx_ticker_list)]\n",
        "    \n",
        "    return_era_list = []\n",
        "    for era in dfs.index.unique():\n",
        "        era_df = dfs[dfs.index == era]\n",
        "        \n",
        "        # predictions\n",
        "        predictions = era_df.prediction\n",
        "        \n",
        "        # compute allocations\n",
        "        allocations = predictions / sum(abs(predictions))\n",
        "        \n",
        "        # compute gain as dot product between allocation and relative deltas\n",
        "        pct_gain = np.dot(allocations, era_df.target)\n",
        "        \n",
        "        return_era_list.append(pct_gain)\n",
        "\n",
        "    mean = round(np.mean(return_era_list), 4)\n",
        "    std = round(np.std(return_era_list), 4)\n",
        "    max = round(np.max(return_era_list), 4)\n",
        "    min = round(np.min(return_era_list), 4)\n",
        "    return mean, std, max, min\n",
        "\n",
        "y_pred_train = reg_updown.predict(X_train)\n",
        "train_rmse_stat = rmse_by_era(y_pred_train, y_updown_train)\n",
        "print('Train dataset RMSE by era: mean = {} ; std = {} ; max = {} ; min = {}'.format(train_rmse_stat[0],\n",
        "                                                                             train_rmse_stat[1],\n",
        "                                                                             train_rmse_stat[2],\n",
        "                                                                             train_rmse_stat[3]))\n",
        "y_pred_test = reg_updown.predict(X_test)\n",
        "test_rmse_stat = rmse_by_era(y_pred_test, y_updown_test)\n",
        "print('Test dataset RMSE by era: mean = {} ; std = {} ; max = {} ; min = {}'.format(test_rmse_stat[0],\n",
        "                                                                             test_rmse_stat[1],\n",
        "                                                                             test_rmse_stat[2],\n",
        "                                                                             test_rmse_stat[3]))\n",
        "\n",
        "train_return = calculate_return(symbols_train, y_pred_train, y_updown_train)\n",
        "print('Train dataset return by era: mean = {} ; std = {} ; max = {} ; min = {}'.format(train_return[0],\n",
        "                                                                                 train_return[1],\n",
        "                                                                                 train_return[2],\n",
        "                                                                                 train_return[3]))\n",
        "\n",
        "test_return = calculate_return(symbols_test, y_pred_test, y_updown_test)\n",
        "print('Test dataset return by era: mean = {} ; std = {} ; max = {} ; min = {}'.format(test_return[0],\n",
        "                                                                                 test_return[1],\n",
        "                                                                                 test_return[2],\n",
        "                                                                                 test_return[3]))"
      ]
    },
    {
      "cell_type": "code",
      "execution_count": null,
      "metadata": {
        "id": "C5kFPMeFWKKS"
      },
      "outputs": [],
      "source": [
        "# Use the trained Linear Regression model to make prediction on latest data\n",
        "\n",
        "X_validation = validation_dataset.iloc[:, 1:-2]\n",
        "y_validation_updown = reg_updown.predict(X_validation)\n",
        "\n",
        "y_validation_updown[:5]"
      ]
    },
    {
      "cell_type": "markdown",
      "metadata": {
        "id": "k6DTEH8nWKKS"
      },
      "source": [
        "## Let's use the prediction from linear regression to join with validation dataset symbol for submission"
      ]
    },
    {
      "cell_type": "code",
      "execution_count": null,
      "metadata": {
        "id": "jQW1odcvWKKS"
      },
      "outputs": [],
      "source": [
        "prediction_updown = pd.DataFrame()\n",
        "prediction_updown['symbol'] = list(validation_dataset.symbol)\n",
        "prediction_updown['prediction'] = y_validation_updown\n",
        "\n",
        "# sort the prediction to check which symbol is weaker and stronger, ie. FOX is weakest; BTC is strongest\n",
        "prediction_updown.sort_values('prediction')"
      ]
    },
    {
      "cell_type": "markdown",
      "metadata": {
        "id": "GgGhWYgwWKKS"
      },
      "source": [
        "## Check is the prediction in accordance for submission format"
      ]
    },
    {
      "cell_type": "code",
      "execution_count": null,
      "metadata": {
        "id": "8ojBuFY4WKKS"
      },
      "outputs": [],
      "source": [
        "#check if y_latest is in accordance to shape for submission\n",
        "if set(prediction_updown.symbol) == set(validation_dataset.symbol):\n",
        "    print('symbol matched!')\n",
        "else:\n",
        "    print('symbol unmatched, the symbol in prediction df must match the symbol in validation_dataset...')\n",
        "    \n",
        "if prediction_updown.shape[1] == 2:\n",
        "    print('column counts ok!')\n",
        "else:\n",
        "    print('It should have 2 columns, first column with symbol, second with prediction...')\n"
      ]
    },
    {
      "cell_type": "markdown",
      "metadata": {
        "id": "vgMWO0QWWKKS"
      },
      "source": [
        "## Output prediction as a .csv file for submission!"
      ]
    },
    {
      "cell_type": "code",
      "execution_count": null,
      "metadata": {
        "id": "_hYx-WuMWKKS"
      },
      "outputs": [],
      "source": [
        "#Output submission as .csv file which stored in content/prediction folder\n",
        "import os\n",
        "if not os.path.exists('/content/prediction'):\n",
        "    os.makedirs('/content/prediction')\n",
        "prediction_updown.to_csv('/content/prediction/prediction_updown.csv', index = False, header = None)"
      ]
    },
    {
      "cell_type": "code",
      "execution_count": null,
      "metadata": {
        "id": "8t2qXzQ7WKKS"
      },
      "outputs": [],
      "source": []
    }
  ],
  "metadata": {
    "accelerator": "GPU",
    "colab": {
      "machine_shape": "hm",
      "provenance": []
    },
    "kernelspec": {
      "display_name": "Python 3 (ipykernel)",
      "language": "python",
      "name": "python3"
    },
    "language_info": {
      "codemirror_mode": {
        "name": "ipython",
        "version": 3
      },
      "file_extension": ".py",
      "mimetype": "text/x-python",
      "name": "python",
      "nbconvert_exporter": "python",
      "pygments_lexer": "ipython3",
      "version": "3.9.4"
    }
  },
  "nbformat": 4,
  "nbformat_minor": 0
}